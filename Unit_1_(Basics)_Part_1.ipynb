{
  "nbformat": 4,
  "nbformat_minor": 0,
  "metadata": {
    "colab": {
      "provenance": [],
      "authorship_tag": "ABX9TyPxVQEaf8i6437WzXe7iChC",
      "include_colab_link": true
    },
    "kernelspec": {
      "name": "python3",
      "display_name": "Python 3"
    },
    "language_info": {
      "name": "python"
    }
  },
  "cells": [
    {
      "cell_type": "markdown",
      "metadata": {
        "id": "view-in-github",
        "colab_type": "text"
      },
      "source": [
        "<a href=\"https://colab.research.google.com/github/parthnagar1011/Data-Science-for-Python/blob/main/Unit_1_(Basics)_Part_1.ipynb\" target=\"_parent\"><img src=\"https://colab.research.google.com/assets/colab-badge.svg\" alt=\"Open In Colab\"/></a>"
      ]
    },
    {
      "cell_type": "markdown",
      "source": [
        "# **Functions**\n",
        "\n",
        "In Python, functions are blocks of code designed to perform a specific task. They can take parameters as input and return a value or perform actions.\n",
        "\n",
        "\n"
      ],
      "metadata": {
        "id": "OVwdaH4wCI2I"
      }
    },
    {
      "cell_type": "code",
      "execution_count": null,
      "metadata": {
        "colab": {
          "base_uri": "https://localhost:8080/"
        },
        "id": "RcgnsttOBXwT",
        "outputId": "62125104-3d96-44ce-bbae-70689c5ec140"
      },
      "outputs": [
        {
          "output_type": "stream",
          "name": "stdout",
          "text": [
            "8\n"
          ]
        }
      ],
      "source": [
        "# Let's take an example of add 2 numbers\n",
        "\n",
        "def add_numbers(a,b) :\n",
        "  return a+b\n",
        "\n",
        "result = add_numbers(5,3)\n",
        "print(result)"
      ]
    },
    {
      "cell_type": "markdown",
      "source": [
        "Key points:\n",
        "\n",
        "1. **def** keyword signifies the start of a function definition.\n",
        "2. **function_name** is the name of the function.\n",
        "3. **parameters** are the inputs to the function, enclosed in parentheses.\n",
        "4.**Docstring** is a string enclosed in triple quotes that documents the function's purpose.\n",
        "5. **return** statement outputs a value or None if nothing is returned.\n",
        "\n",
        "\n",
        "\n"
      ],
      "metadata": {
        "id": "pW98JrltC9iv"
      }
    },
    {
      "cell_type": "markdown",
      "source": [
        "# **Strings**\n",
        "Strings in Python are sequences of characters enclosed within single (') or double (\") quotes. They represent text data and can be manipulated using various string methods and functions."
      ],
      "metadata": {
        "id": "NtguMzQsDiow"
      }
    },
    {
      "cell_type": "code",
      "source": [
        "my_str1 = 'Hello Python'\n",
        "my_str2 = \"This is Colab\"\n",
        "\n",
        "print(my_str1)"
      ],
      "metadata": {
        "colab": {
          "base_uri": "https://localhost:8080/"
        },
        "id": "rg11aacEC4ZW",
        "outputId": "afb26d63-3991-4f48-ffde-addedba0eced"
      },
      "execution_count": null,
      "outputs": [
        {
          "output_type": "stream",
          "name": "stdout",
          "text": [
            "Hello Python\n"
          ]
        }
      ]
    },
    {
      "cell_type": "code",
      "source": [
        "print(my_str2)\n",
        "\n",
        "# Both are strings"
      ],
      "metadata": {
        "colab": {
          "base_uri": "https://localhost:8080/"
        },
        "id": "C3MdE7YqD6jy",
        "outputId": "96e07973-cf86-40b7-c65c-c67460f97c1e"
      },
      "execution_count": null,
      "outputs": [
        {
          "output_type": "stream",
          "name": "stdout",
          "text": [
            "This is Colab\n"
          ]
        }
      ]
    },
    {
      "cell_type": "code",
      "source": [
        "# we can access string using indexing\n",
        "\n",
        "my_str1[2]"
      ],
      "metadata": {
        "colab": {
          "base_uri": "https://localhost:8080/",
          "height": 36
        },
        "id": "KPSkradzELeE",
        "outputId": "64eccdd4-81ba-4218-ac30-e52e6548777a"
      },
      "execution_count": null,
      "outputs": [
        {
          "output_type": "execute_result",
          "data": {
            "text/plain": [
              "'l'"
            ],
            "application/vnd.google.colaboratory.intrinsic+json": {
              "type": "string"
            }
          },
          "metadata": {},
          "execution_count": 8
        }
      ]
    },
    {
      "cell_type": "code",
      "source": [
        "# String slicing\n",
        "\n",
        "print(my_str1[1:5])"
      ],
      "metadata": {
        "colab": {
          "base_uri": "https://localhost:8080/"
        },
        "id": "Ipy1wvQ1EVrk",
        "outputId": "f7176c4d-cdfe-434f-a425-4536ed18284a"
      },
      "execution_count": null,
      "outputs": [
        {
          "output_type": "stream",
          "name": "stdout",
          "text": [
            "ello\n"
          ]
        }
      ]
    },
    {
      "cell_type": "markdown",
      "source": [
        "**String methods:**\n",
        "\n",
        "1. **upper()**: Converts the string to uppercase.\n",
        "2. l**ower()**: Converts the string to lowercase.\n",
        "3. **capitalize()**: Capitalizes the first character.\n",
        "4. **strip()**: Removes leading and trailing whitespaces.\n",
        "5. **split()**: Splits the string based on a delimiter.\n",
        "6. **join()**: Joins a list of strings into a single string.\n"
      ],
      "metadata": {
        "id": "5uY1ZDRwEmFr"
      }
    },
    {
      "cell_type": "code",
      "source": [
        "# f-string\n",
        "\n",
        "name = \"Jack\"\n",
        "age = 30\n",
        "\n",
        "print(f\"My name is {name} and age is {age}.\")"
      ],
      "metadata": {
        "colab": {
          "base_uri": "https://localhost:8080/"
        },
        "id": "PE9N5wM6Ee42",
        "outputId": "0221aaa8-b60e-4a2c-d5c5-10915f6c0517"
      },
      "execution_count": null,
      "outputs": [
        {
          "output_type": "stream",
          "name": "stdout",
          "text": [
            "My name is Jack and age is 30.\n"
          ]
        }
      ]
    },
    {
      "cell_type": "markdown",
      "source": [
        "# **Lists**\n",
        "\n",
        "Lists in Python are ordered collections of items enclosed in square brackets []. They can contain elements of different data types."
      ],
      "metadata": {
        "id": "NhWKuQU6FhPj"
      }
    },
    {
      "cell_type": "code",
      "source": [
        "my_list = [ 1 , 2 , 3]\n",
        "my_list2 = ['a', 'b', 'c']\n",
        "\n",
        "print(my_list)"
      ],
      "metadata": {
        "colab": {
          "base_uri": "https://localhost:8080/"
        },
        "id": "GWCaxDGYFuub",
        "outputId": "d31ade0c-55a9-48aa-d7b2-cbd915be9d76"
      },
      "execution_count": null,
      "outputs": [
        {
          "output_type": "stream",
          "name": "stdout",
          "text": [
            "[1, 2, 3]\n"
          ]
        }
      ]
    },
    {
      "cell_type": "code",
      "source": [
        "# Accessing elements\n",
        "print(my_list2[0])\n",
        "\n",
        "# We can also perform list slicing in a similar manner as we do with strings."
      ],
      "metadata": {
        "colab": {
          "base_uri": "https://localhost:8080/"
        },
        "id": "LUx7P2xqGBlb",
        "outputId": "8d7012ea-03c7-4ed3-e4f2-66b40175ebd8"
      },
      "execution_count": null,
      "outputs": [
        {
          "output_type": "stream",
          "name": "stdout",
          "text": [
            "a\n"
          ]
        }
      ]
    },
    {
      "cell_type": "markdown",
      "source": [
        "**List Methods:**\n",
        "\n",
        "\n",
        "* **append**(): Adds an element to the end of the list.\n",
        "* **insert**(): Inserts an element at a specific index.\n",
        "* **remove**(): Removes the first occurrence of a specified element.\n",
        "* **pop**(): Removes and returns the element at a specific index or the last element if no index is provided.\n",
        "* **sort**(): Sorts the list in ascending order.\n",
        "* **reverse**(): Reverses the order of elements in the list.  \n",
        "\n"
      ],
      "metadata": {
        "id": "xMfZbkAzGvxc"
      }
    },
    {
      "cell_type": "markdown",
      "source": [
        "List comprehensions:\n",
        "\n",
        "List comprehensions provide a concise way to create lists based on existing iterables."
      ],
      "metadata": {
        "id": "FBlYt6fMHPnx"
      }
    },
    {
      "cell_type": "code",
      "source": [
        "squares = [x**2 for x in range(10)]"
      ],
      "metadata": {
        "id": "Y-5HIXIHGraC"
      },
      "execution_count": null,
      "outputs": []
    },
    {
      "cell_type": "markdown",
      "source": [
        "# **Tuples**\n",
        "\n",
        "Tuples in Python are ordered, immutable sequences of elements. They are defined using parentheses (), and the elements are separated by commas.\n",
        "\n",
        "* **Ordered**: Elements in a tuple have a defined order, and the order cannot be changed.\n",
        "* **Immutable**: Once a tuple is created, its elements cannot be added, removed, or modified.\n",
        "* **Indexing and slicing**: Tuples support indexing and slicing, allowing you to access individual elements or sub-sequences."
      ],
      "metadata": {
        "id": "7hiIcFxc0wrV"
      }
    },
    {
      "cell_type": "code",
      "source": [
        "# creating tuples\n",
        "\n",
        "my_tuple = (1, 2, 3)\n",
        "my_tuple"
      ],
      "metadata": {
        "id": "YQeXdw4DHVlO",
        "colab": {
          "base_uri": "https://localhost:8080/"
        },
        "outputId": "ec7fc328-0eb2-472f-d42a-8752d1d73786"
      },
      "execution_count": 1,
      "outputs": [
        {
          "output_type": "execute_result",
          "data": {
            "text/plain": [
              "(1, 2, 3)"
            ]
          },
          "metadata": {},
          "execution_count": 1
        }
      ]
    },
    {
      "cell_type": "code",
      "source": [
        "# Accessing the first element\n",
        "first_element = my_tuple[0]\n",
        "\n",
        "# Accessing the last element\n",
        "last_element = my_tuple[-1]\n",
        "\n",
        "# Accessing a sub-sequence\n",
        "sub_tuple = my_tuple[1:3]"
      ],
      "metadata": {
        "id": "IEToe8Vr1fqn"
      },
      "execution_count": 2,
      "outputs": []
    },
    {
      "cell_type": "markdown",
      "source": [
        "# **Sets**\n",
        "\n",
        "Sets in Python are unordered collections of unique elements. They are defined using curly braces {}, and the elements are separated by commas.\n",
        "\n",
        "**Properties of sets:**\n",
        "\n",
        "* **Unordered**: Elements in a set do not have a defined order.\n",
        "\n",
        "\n"
      ],
      "metadata": {
        "id": "fZB2TnZL1qcD"
      }
    },
    {
      "cell_type": "code",
      "source": [
        "# Creating a set\n",
        "my_set = {1, 2, 3}\n",
        "my_set"
      ],
      "metadata": {
        "colab": {
          "base_uri": "https://localhost:8080/"
        },
        "id": "S7ulucKC1g2m",
        "outputId": "44d219e0-46e7-4a93-bb0c-593a1505b7ea"
      },
      "execution_count": 3,
      "outputs": [
        {
          "output_type": "execute_result",
          "data": {
            "text/plain": [
              "{1, 2, 3}"
            ]
          },
          "metadata": {},
          "execution_count": 3
        }
      ]
    },
    {
      "cell_type": "code",
      "source": [
        "# Properties\n",
        "\n",
        "set_1 = {5, 2, 6}\n",
        "set_2 = {6, 4, 8}\n",
        "\n",
        "# Finding the union of two sets\n",
        "union_sets = set_1 | set_2\n",
        "print(f\"Union is: {union_sets}\")\n",
        "\n",
        "# Finding the intersection of two sets\n",
        "intersection_sets = set_1 & set_2\n",
        "print(f\"Intersection is: {intersection_sets}\")"
      ],
      "metadata": {
        "colab": {
          "base_uri": "https://localhost:8080/"
        },
        "id": "waSCP0l52CEq",
        "outputId": "7ae40e41-7d4b-4cfa-bb8c-a71212cc5535"
      },
      "execution_count": 6,
      "outputs": [
        {
          "output_type": "stream",
          "name": "stdout",
          "text": [
            "Union is: {2, 4, 5, 6, 8}\n",
            "Intersection is: {6}\n"
          ]
        }
      ]
    },
    {
      "cell_type": "markdown",
      "source": [
        "#  **Dictionaries**\n",
        "\n",
        "Dictionaries in Python are unordered collections of key-value pairs and where each key is associated with a value."
      ],
      "metadata": {
        "id": "ta-tKhCK2mLj"
      }
    },
    {
      "cell_type": "code",
      "source": [
        "# Creating a dictionary\n",
        "dictionary = {\"name\": \"Rahul \", \"age\": 30, \"Stream\": \"Computer Science\"}\n",
        "dictionary"
      ],
      "metadata": {
        "colab": {
          "base_uri": "https://localhost:8080/"
        },
        "id": "p8wVaq972Ek3",
        "outputId": "d58f9794-9aae-4e78-cc4d-13bdf85b23e7"
      },
      "execution_count": 8,
      "outputs": [
        {
          "output_type": "execute_result",
          "data": {
            "text/plain": [
              "{'name': 'Rahul ', 'age': 30, 'Stream': 'Computer Science'}"
            ]
          },
          "metadata": {},
          "execution_count": 8
        }
      ]
    },
    {
      "cell_type": "code",
      "source": [
        "# Checking if a key exists\n",
        "if \"age\" in dictionary:\n",
        "    print(dictionary[\"age\"])"
      ],
      "metadata": {
        "colab": {
          "base_uri": "https://localhost:8080/"
        },
        "id": "mh39wOAx3Ggo",
        "outputId": "b6cea950-1792-4a4a-d94a-b474ff1b3468"
      },
      "execution_count": 9,
      "outputs": [
        {
          "output_type": "stream",
          "name": "stdout",
          "text": [
            "30\n"
          ]
        }
      ]
    },
    {
      "cell_type": "code",
      "source": [
        "# Creating a dictionary to store student information\n",
        "student = {\"name\": \"Rahul\", \"age\": 30, \"stream\": \"Computer Science\"}\n",
        "\n",
        "# Accessing individual fields\n",
        "name = student[\"name\"]\n",
        "age = student[\"age\"]\n",
        "stream = student[\"stream\"]\n",
        "\n",
        "print(f\"Name: {name}, age: {age}, stream: {stream}\")\n",
        "\n",
        "# Modifying a value\n",
        "student[\"age\"] = 21\n",
        "\n",
        "# Adding a new key-value pair\n",
        "student[\"email\"] = \"rahul1232@maill.com\"\n"
      ],
      "metadata": {
        "colab": {
          "base_uri": "https://localhost:8080/"
        },
        "id": "_d19LgYR3Ow9",
        "outputId": "43312146-9a7d-4ca6-cf38-699246473538"
      },
      "execution_count": 13,
      "outputs": [
        {
          "output_type": "stream",
          "name": "stdout",
          "text": [
            "Name: Rahul, age: 30, stream: Computer Science\n"
          ]
        }
      ]
    },
    {
      "cell_type": "code",
      "source": [],
      "metadata": {
        "id": "NYOM23re319u"
      },
      "execution_count": null,
      "outputs": []
    }
  ]
}